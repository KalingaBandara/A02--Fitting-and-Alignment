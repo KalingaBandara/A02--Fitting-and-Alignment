{
 "cells": [
  {
   "cell_type": "markdown",
   "metadata": {},
   "source": [
    "Blob Detection"
   ]
  },
  {
   "cell_type": "code",
   "execution_count": 68,
   "metadata": {},
   "outputs": [
    {
     "name": "stdout",
     "output_type": "stream",
     "text": [
      "Radius (r): 42.42640687119285\n"
     ]
    }
   ],
   "source": [
    "import cv2 as cv\n",
    "import numpy as np\n",
    "from skimage.feature import blob_log\n",
    "from math import sqrt\n",
    "\n",
    "im = cv.imread('the_berry_farms_sunflower_field.jpeg', cv.IMREAD_REDUCED_COLOR_4)\n",
    "gray = cv.cvtColor(im, cv.COLOR_BGR2GRAY)\n",
    "\n",
    "# Apply Gaussian blur to reduce noise\n",
    "blurred = cv.GaussianBlur(gray, (9, 9), 0.5)\n",
    "\n",
    "# Define parameters for blob detection\n",
    "min_sigma = 3\n",
    "max_sigma = 30\n",
    "threshold = .05\n",
    "\n",
    "# Detect blobs using Laplacian of Gaussians\n",
    "blobs = blob_log(blurred, min_sigma=min_sigma,max_sigma=max_sigma, threshold=threshold)\n",
    "blobs[:, 2] = blobs[:, 2] * sqrt(2)\n",
    "\n",
    "max_radius_index = np.argmax(blobs[:, 2])\n",
    "largest_circle_params = blobs[max_radius_index]\n",
    "y, x, r = largest_circle_params\n",
    "print(f\"Radius (r): {r}\")\n",
    "\n",
    "# Draw circles on the original grayscale image\n",
    "for blob in blobs:\n",
    "    y, x, r = blob  # Note: Blob format is (y, x, r)\n",
    "    cv.circle(gray, (int(x), int(y)), int(r), (255,255,0), 1)  # Draw circles in white\n",
    "\n",
    "# Display the result\n",
    "cv.imshow('Detected Circles', gray)\n",
    "cv.waitKey(0)\n",
    "cv.destroyAllWindows()"
   ]
  },
  {
   "cell_type": "code",
   "execution_count": null,
   "metadata": {},
   "outputs": [],
   "source": []
  }
 ],
 "metadata": {
  "kernelspec": {
   "display_name": "cv",
   "language": "python",
   "name": "python3"
  },
  "language_info": {
   "codemirror_mode": {
    "name": "ipython",
    "version": 3
   },
   "file_extension": ".py",
   "mimetype": "text/x-python",
   "name": "python",
   "nbconvert_exporter": "python",
   "pygments_lexer": "ipython3",
   "version": "3.11.4"
  },
  "orig_nbformat": 4
 },
 "nbformat": 4,
 "nbformat_minor": 2
}
